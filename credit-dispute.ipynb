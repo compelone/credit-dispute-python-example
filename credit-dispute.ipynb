{
 "cells": [
  {
   "cell_type": "code",
   "execution_count": 1,
   "metadata": {},
   "outputs": [],
   "source": [
    "import os\n",
    "from datetime import date"
   ]
  },
  {
   "cell_type": "code",
   "execution_count": 2,
   "metadata": {},
   "outputs": [],
   "source": [
    "LETTERS_LOCATION='letters'\n",
    "REMOVE_ADDRESS_LETTER='remove_addressletter.txt'\n",
    "EQUIFAX_UPDATED_LETTER='equifax_updated_address_letter.txt'\n",
    "\n",
    "remove_address_letter_full_path=os.path.join(LETTERS_LOCATION, REMOVE_ADDRESS_LETTER)\n",
    "updated_equifax_letter_full_path=os.path.join(LETTERS_LOCATION, EQUIFAX_UPDATED_LETTER)"
   ]
  },
  {
   "cell_type": "code",
   "execution_count": 3,
   "metadata": {},
   "outputs": [],
   "source": [
    "date=date.today()\n",
    "name='Lester J. Privott, Jr.'\n",
    "address1='11 My Current Address, Charlotte NC, 28278'\n",
    "address2=''\n",
    "ssn='111-11-1111'\n",
    "dob='06/22/1979'\n",
    "\n",
    "equifax_bureau_name='Equifax Information Services, LLC'\n",
    "equifax_bureau_address='PO Box 740241'\n",
    "equifax_bureau_city='Atlanta'\n",
    "equifax_bureau_state='GA'\n",
    "equifax_bureau_zip='30374'\n",
    "\n",
    "current_address=address1"
   ]
  },
  {
   "cell_type": "code",
   "execution_count": 5,
   "metadata": {},
   "outputs": [],
   "source": [
    "equifax_bad_addresses=[\n",
    "    '1 Some St., Charlotte NC, 28278',\n",
    "    '2 Some St., Charlotte NC, 28278',\n",
    "    '3 Some St., Charlotte NC, 28278',\n",
    "    '4 Some St., Charlotte NC, 28278'\n",
    "]\n",
    "\n",
    "equifax_bad_address_string='\\r\\n\\t'.join(equifax_bad_addresses)"
   ]
  },
  {
   "cell_type": "code",
   "execution_count": 7,
   "metadata": {},
   "outputs": [],
   "source": [
    "with open(remove_address_letter_full_path, 'r') as f:\n",
    "    file_contents_string=f.read()\n",
    "    \n",
    "    equifax_updated_letter_text=file_contents_string.format(\n",
    "        date=date,\n",
    "        name=name,\n",
    "        address1=address1,\n",
    "        address2=address2,\n",
    "        ssn=ssn,\n",
    "        dob=dob,\n",
    "        credit_bureau_name=equifax_bureau_name,\n",
    "        credit_bureau_address=equifax_bureau_address,\n",
    "        credit_bureau_city=equifax_bureau_city,\n",
    "        credit_bureau_state=equifax_bureau_state,\n",
    "        credit_bureau_zip=equifax_bureau_zip,\n",
    "        wrong_addresses=equifax_bad_address_string,\n",
    "        current_address=current_address\n",
    "    )\n",
    "    \n",
    "    with open(updated_equifax_letter_full_path, 'w') as ef:\n",
    "        ef.write(equifax_updated_letter_text)"
   ]
  },
  {
   "cell_type": "code",
   "execution_count": null,
   "metadata": {},
   "outputs": [],
   "source": []
  }
 ],
 "metadata": {
  "kernelspec": {
   "display_name": "Python 3",
   "language": "python",
   "name": "python3"
  },
  "language_info": {
   "codemirror_mode": {
    "name": "ipython",
    "version": 3
   },
   "file_extension": ".py",
   "mimetype": "text/x-python",
   "name": "python",
   "nbconvert_exporter": "python",
   "pygments_lexer": "ipython3",
   "version": "3.7.6"
  }
 },
 "nbformat": 4,
 "nbformat_minor": 4
}
